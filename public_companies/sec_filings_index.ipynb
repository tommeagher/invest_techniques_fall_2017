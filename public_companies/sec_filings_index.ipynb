{
 "cells": [
  {
   "cell_type": "code",
   "execution_count": 1,
   "metadata": {
    "collapsed": true,
    "deletable": true,
    "editable": true
   },
   "outputs": [],
   "source": [
    "#import your libraries\n",
    "#the third-party data analysis library pandas\n",
    "#provides a spreadsheet-like tabular data object.\n",
    "import pandas as pd \n",
    "#the third-party requests library makes fetching data (html, txt, csv)\n",
    "#from the web easier\n",
    "import requests\n",
    "\n",
    "#re is the standard Python library for regular expressions\n",
    "import re"
   ]
  },
  {
   "cell_type": "markdown",
   "metadata": {
    "deletable": true,
    "editable": true
   },
   "source": [
    "Start by reading the documentation on what kind of data is available on the web in what formats: https://www.sec.gov/edgar/searchedgar/accessing-edgar-data.htm"
   ]
  },
  {
   "cell_type": "code",
   "execution_count": 2,
   "metadata": {
    "collapsed": true,
    "deletable": true,
    "editable": true
   },
   "outputs": [],
   "source": [
    "#set the base of your url. You'll use this over and over again\n",
    "#all the data we want will start with this url\n",
    "base_url = \"https://www.sec.gov/Archives/\""
   ]
  },
  {
   "cell_type": "code",
   "execution_count": 3,
   "metadata": {
    "collapsed": true,
    "deletable": true,
    "editable": true
   },
   "outputs": [],
   "source": [
    "#and here's the tail of the url just for\n",
    "#the index of all recent company filings\n",
    "company_index = \"edgar/full-index/2017/QTR4/company.idx\""
   ]
  },
  {
   "cell_type": "code",
   "execution_count": 4,
   "metadata": {
    "collapsed": false,
    "deletable": true,
    "editable": true
   },
   "outputs": [],
   "source": [
    "#use the requests library\n",
    "#make a \"get\" request to grab the text \n",
    "#at this url: \"https://www.sec.gov/Archives/edgar/full-index/2017/QTR4/company.idx\n",
    "#which is all of the filings thus far in the 4th quarter of 2017    \n",
    "r = requests.get(base_url+company_index)"
   ]
  },
  {
   "cell_type": "code",
   "execution_count": 5,
   "metadata": {
    "collapsed": false,
    "deletable": true,
    "editable": true
   },
   "outputs": [],
   "source": [
    "#if the web request worked properly (was a 200 status code or OK==True)\n",
    "if r.ok:\n",
    "    #split the giant text blob you got from the URL\n",
    "    #into a list with each item being one row of data\n",
    "    rows = r.text.splitlines()\n",
    "else:\n",
    "    print(\"Your web request failed.\")\n",
    "    #this is called string formatting\n",
    "    #you write out the string you want to print in quotes\n",
    "    #with placeholders in {}\n",
    "    #then add the .format method after the print statement\n",
    "    #including a list of variables \n",
    "    #for what you want to print in the {} placeholders\n",
    "    print(\"{0} status code\").format(r.status_code)\n"
   ]
  },
  {
   "cell_type": "code",
   "execution_count": 6,
   "metadata": {
    "collapsed": false,
    "deletable": true,
    "editable": true
   },
   "outputs": [
    {
     "data": {
      "text/plain": [
       "135113"
      ]
     },
     "execution_count": 6,
     "metadata": {},
     "output_type": "execute_result"
    }
   ],
   "source": [
    "#how many items do you have in your \"rows\" list?\n",
    "len(rows)"
   ]
  },
  {
   "cell_type": "code",
   "execution_count": 7,
   "metadata": {
    "collapsed": false,
    "deletable": true,
    "editable": true
   },
   "outputs": [
    {
     "data": {
      "text/plain": [
       "[u'Description:           Master Index of EDGAR Dissemination Feed by Company Name',\n",
       " u'Last Data Received:    November 29, 2017',\n",
       " u'Comments:              webmaster@sec.gov',\n",
       " u'Anonymous FTP:         ftp://ftp.sec.gov/edgar/',\n",
       " u' ',\n",
       " u' ',\n",
       " u' ',\n",
       " u' ',\n",
       " u'Company Name                                                  Form Type   CIK         Date Filed  File Name',\n",
       " u'---------------------------------------------------------------------------------------------------------------------------------------------']"
      ]
     },
     "execution_count": 7,
     "metadata": {},
     "output_type": "execute_result"
    }
   ],
   "source": [
    "#let's look at the top of this data.\n",
    "#it's mostly the boilerplate of the file header\n",
    "rows[:10]"
   ]
  },
  {
   "cell_type": "code",
   "execution_count": 8,
   "metadata": {
    "collapsed": false
   },
   "outputs": [
    {
     "data": {
      "text/plain": [
       "[u'1 800 FLOWERS COM INC                                         10-Q        1084869     2017-11-09  edgar/data/1084869/0001437749-17-018857.txt         ',\n",
       " u'1 800 FLOWERS COM INC                                         4           1084869     2017-10-30  edgar/data/1084869/0001084869-17-000018.txt         ',\n",
       " u'1 800 FLOWERS COM INC                                         4           1084869     2017-11-01  edgar/data/1084869/0001084869-17-000019.txt         ',\n",
       " u'1 800 FLOWERS COM INC                                         4           1084869     2017-11-02  edgar/data/1084869/0001084869-17-000020.txt         ',\n",
       " u'1 800 FLOWERS COM INC                                         4           1084869     2017-11-02  edgar/data/1084869/0001084869-17-000021.txt         ']"
      ]
     },
     "execution_count": 8,
     "metadata": {},
     "output_type": "execute_result"
    }
   ],
   "source": [
    "#let's look at our data after the header rows\n",
    "rows[10:15]"
   ]
  },
  {
   "cell_type": "code",
   "execution_count": 9,
   "metadata": {
    "collapsed": true
   },
   "outputs": [],
   "source": [
    "#now we have two options\n",
    "#first, let's try breaking this up with a for-loop\n",
    "#and cleaning each row, filtering it manually"
   ]
  },
  {
   "cell_type": "code",
   "execution_count": 10,
   "metadata": {
    "collapsed": false,
    "deletable": true,
    "editable": true
   },
   "outputs": [
    {
     "name": "stdout",
     "output_type": "stream",
     "text": [
      "EXXON MOBIL CORP                                              8-K         34088       2017-10-27  edgar/data/34088/0000034088-17-000044.txt           \n",
      "2017-10-27: https://www.sec.gov/Archives/edgar/data/34088/0000034088-17-000044.txt\n",
      "EXXON MOBIL CORP                                              8-K         34088       2017-10-31  edgar/data/34088/0000034088-17-000047.txt           \n",
      "2017-10-31: https://www.sec.gov/Archives/edgar/data/34088/0000034088-17-000047.txt\n"
     ]
    }
   ],
   "source": [
    "#this for-loop syntax does a few things\n",
    "#do the same procedure one time \n",
    "#for each item (name your variable representing each list item) \n",
    "#in (your list variable)\n",
    "for item in rows:\n",
    "    #make sure each nested section is indented 4 spaces \n",
    "    #so it executes within the larger loop\n",
    "    #now we're setting a conditional that only prints off\n",
    "    #the rows we're interested in if it finds the string \"EXXON\"\n",
    "    #in the larger string that is the item in our \"rows\" list\n",
    "    if \"EXXON\" in item:\n",
    "        #if that's the case, then split up the long string\n",
    "        #into a list of items. Think of each piece in the \"my_company\"\n",
    "        #list as one cell in a row of a spreadsheet\n",
    "        #to break it up, we use the .split method of the re regular expressions library\n",
    "        #this regex '\\s{2,}' says \"find a space (\\s) where there are 2 or more\n",
    "        #in a row ({2,})\n",
    "        #rubular.com is a fantastic resource for designing and testing regexes\n",
    "        my_company = re.split('\\s{2,}', item)\n",
    "        #now, we only want to show filings that have \"8-K\" in the \n",
    "        #file type column, which is the second ([1] when Python counts from 0)\n",
    "        #piece in the list\n",
    "        if my_company[1] == \"8-K\":\n",
    "            print(item)\n",
    "            #counting backwards from the end of the list\n",
    "            #the second item from the right (the first is an empty string)\n",
    "            #is the unique URL for this 8-K filing\n",
    "            url_end = my_company[-2]\n",
    "            #the date is the 4th ([3] in Python) piece in the row list\n",
    "            date = my_company[3]\n",
    "            #again, using string formatting, print off the date and the \n",
    "            #full unique URL for the filing\n",
    "            #you could also store that in a variable to make more requests\n",
    "            print(\"{0}: {1}{2}\".format(date, base_url, url_end))"
   ]
  },
  {
   "cell_type": "code",
   "execution_count": 11,
   "metadata": {
    "collapsed": true,
    "deletable": true,
    "editable": true
   },
   "outputs": [],
   "source": [
    "#now, alter the loop above\n",
    "#to find and print off the find the 10-Q \n",
    "#for a company you're interested in "
   ]
  },
  {
   "cell_type": "code",
   "execution_count": 12,
   "metadata": {
    "collapsed": true
   },
   "outputs": [],
   "source": [
    "#now let's look at how we could do this in pandas"
   ]
  },
  {
   "cell_type": "code",
   "execution_count": 13,
   "metadata": {
    "collapsed": true
   },
   "outputs": [],
   "source": [
    "#pandas doesn't like to read in text that isn't delimited\n",
    "#so we'll create a new_list from our rows list, where we split\n",
    "#every line up into columns\n",
    "#make an empty list\n",
    "new_list = []\n",
    "#cycle through every line (we name it \"row\") in our \"rows\" list\n",
    "for row in rows:\n",
    "    #use the regex library to split the string\n",
    "    #into pieces whenever 2 or more spaces in a row appear\n",
    "    filing = re.split('\\s{2,}', row)\n",
    "    #append this row to our new_list list\n",
    "    new_list.append(filing)"
   ]
  },
  {
   "cell_type": "code",
   "execution_count": 14,
   "metadata": {
    "collapsed": false
   },
   "outputs": [
    {
     "data": {
      "text/plain": [
       "135113"
      ]
     },
     "execution_count": 14,
     "metadata": {},
     "output_type": "execute_result"
    }
   ],
   "source": [
    "#measure the length of new_list\n",
    "#it should be the same as the len(rows) above\n",
    "#if it's not, you lost some lines somehow\n",
    "len(new_list)"
   ]
  },
  {
   "cell_type": "code",
   "execution_count": 15,
   "metadata": {
    "collapsed": false
   },
   "outputs": [
    {
     "data": {
      "text/plain": [
       "[[u'1 800 FLOWERS COM INC',\n",
       "  u'10-Q',\n",
       "  u'1084869',\n",
       "  u'2017-11-09',\n",
       "  u'edgar/data/1084869/0001437749-17-018857.txt',\n",
       "  u''],\n",
       " [u'1 800 FLOWERS COM INC',\n",
       "  u'4',\n",
       "  u'1084869',\n",
       "  u'2017-10-30',\n",
       "  u'edgar/data/1084869/0001084869-17-000018.txt',\n",
       "  u''],\n",
       " [u'1 800 FLOWERS COM INC',\n",
       "  u'4',\n",
       "  u'1084869',\n",
       "  u'2017-11-01',\n",
       "  u'edgar/data/1084869/0001084869-17-000019.txt',\n",
       "  u''],\n",
       " [u'1 800 FLOWERS COM INC',\n",
       "  u'4',\n",
       "  u'1084869',\n",
       "  u'2017-11-02',\n",
       "  u'edgar/data/1084869/0001084869-17-000020.txt',\n",
       "  u''],\n",
       " [u'1 800 FLOWERS COM INC',\n",
       "  u'4',\n",
       "  u'1084869',\n",
       "  u'2017-11-02',\n",
       "  u'edgar/data/1084869/0001084869-17-000021.txt',\n",
       "  u'']]"
      ]
     },
     "execution_count": 15,
     "metadata": {},
     "output_type": "execute_result"
    }
   ],
   "source": [
    "#let's peek at our data, skipping those dumb header rows above\n",
    "new_list[10:15]"
   ]
  },
  {
   "cell_type": "code",
   "execution_count": 16,
   "metadata": {
    "collapsed": true
   },
   "outputs": [],
   "source": [
    "#make a new pandas dataframe, we'll call \"sec_index\"\n",
    "#by giving it our new_list starting with the 11th row\n",
    "#we'll give it a list with the names of the columns we want to use\n",
    "#for whatever reason (maybe because of headers), it adds two empty columns at the end\n",
    "sec_index=pd.DataFrame(new_list[10:], columns = [\"Company_Name\",\"Form_Type\",\"CIK\",\"Date_Filed\",\"File_Name\",\"Blank1\",\"Blank2\"])\n",
    "\n",
    "#drop our two two blank columns from our dataframe\n",
    "sec_index.drop([\"Blank1\", \"Blank2\"], axis=1, inplace=True)"
   ]
  },
  {
   "cell_type": "code",
   "execution_count": 17,
   "metadata": {
    "collapsed": false
   },
   "outputs": [
    {
     "data": {
      "text/html": [
       "<div>\n",
       "<table border=\"1\" class=\"dataframe\">\n",
       "  <thead>\n",
       "    <tr style=\"text-align: right;\">\n",
       "      <th></th>\n",
       "      <th>Company_Name</th>\n",
       "      <th>Form_Type</th>\n",
       "      <th>CIK</th>\n",
       "      <th>Date_Filed</th>\n",
       "      <th>File_Name</th>\n",
       "    </tr>\n",
       "  </thead>\n",
       "  <tbody>\n",
       "    <tr>\n",
       "      <th>45276</th>\n",
       "      <td>FORD MOTOR CO</td>\n",
       "      <td>10-Q</td>\n",
       "      <td>37996</td>\n",
       "      <td>2017-10-26</td>\n",
       "      <td>edgar/data/37996/0000037996-17-000092.txt</td>\n",
       "    </tr>\n",
       "    <tr>\n",
       "      <th>45277</th>\n",
       "      <td>FORD MOTOR CO</td>\n",
       "      <td>3</td>\n",
       "      <td>37996</td>\n",
       "      <td>2017-11-08</td>\n",
       "      <td>edgar/data/37996/0001209191-17-059706.txt</td>\n",
       "    </tr>\n",
       "    <tr>\n",
       "      <th>45278</th>\n",
       "      <td>FORD MOTOR CO</td>\n",
       "      <td>4</td>\n",
       "      <td>37996</td>\n",
       "      <td>2017-10-05</td>\n",
       "      <td>edgar/data/37996/0001209191-17-056144.txt</td>\n",
       "    </tr>\n",
       "    <tr>\n",
       "      <th>45279</th>\n",
       "      <td>FORD MOTOR CO</td>\n",
       "      <td>4</td>\n",
       "      <td>37996</td>\n",
       "      <td>2017-10-05</td>\n",
       "      <td>edgar/data/37996/0001209191-17-056147.txt</td>\n",
       "    </tr>\n",
       "    <tr>\n",
       "      <th>45280</th>\n",
       "      <td>FORD MOTOR CO</td>\n",
       "      <td>4</td>\n",
       "      <td>37996</td>\n",
       "      <td>2017-10-05</td>\n",
       "      <td>edgar/data/37996/0001209191-17-056148.txt</td>\n",
       "    </tr>\n",
       "    <tr>\n",
       "      <th>45281</th>\n",
       "      <td>FORD MOTOR CO</td>\n",
       "      <td>8-K</td>\n",
       "      <td>37996</td>\n",
       "      <td>2017-10-02</td>\n",
       "      <td>edgar/data/37996/0000037996-17-000080.txt</td>\n",
       "    </tr>\n",
       "    <tr>\n",
       "      <th>45282</th>\n",
       "      <td>FORD MOTOR CO</td>\n",
       "      <td>8-K</td>\n",
       "      <td>37996</td>\n",
       "      <td>2017-10-03</td>\n",
       "      <td>edgar/data/37996/0000037996-17-000082.txt</td>\n",
       "    </tr>\n",
       "    <tr>\n",
       "      <th>45283</th>\n",
       "      <td>FORD MOTOR CO</td>\n",
       "      <td>8-K</td>\n",
       "      <td>37996</td>\n",
       "      <td>2017-10-03</td>\n",
       "      <td>edgar/data/37996/0000037996-17-000084.txt</td>\n",
       "    </tr>\n",
       "    <tr>\n",
       "      <th>45284</th>\n",
       "      <td>FORD MOTOR CO</td>\n",
       "      <td>8-K</td>\n",
       "      <td>37996</td>\n",
       "      <td>2017-10-18</td>\n",
       "      <td>edgar/data/37996/0000037996-17-000086.txt</td>\n",
       "    </tr>\n",
       "    <tr>\n",
       "      <th>45285</th>\n",
       "      <td>FORD MOTOR CO</td>\n",
       "      <td>8-K</td>\n",
       "      <td>37996</td>\n",
       "      <td>2017-10-26</td>\n",
       "      <td>edgar/data/37996/0000037996-17-000090.txt</td>\n",
       "    </tr>\n",
       "    <tr>\n",
       "      <th>45286</th>\n",
       "      <td>FORD MOTOR CO</td>\n",
       "      <td>8-K</td>\n",
       "      <td>37996</td>\n",
       "      <td>2017-11-01</td>\n",
       "      <td>edgar/data/37996/0000037996-17-000095.txt</td>\n",
       "    </tr>\n",
       "    <tr>\n",
       "      <th>45287</th>\n",
       "      <td>FORD MOTOR CO</td>\n",
       "      <td>8-K</td>\n",
       "      <td>37996</td>\n",
       "      <td>2017-11-16</td>\n",
       "      <td>edgar/data/37996/0000037996-17-000099.txt</td>\n",
       "    </tr>\n",
       "    <tr>\n",
       "      <th>45288</th>\n",
       "      <td>FORD MOTOR CREDIT CO LLC</td>\n",
       "      <td>10-Q</td>\n",
       "      <td>38009</td>\n",
       "      <td>2017-10-26</td>\n",
       "      <td>edgar/data/38009/0000038009-17-000163.txt</td>\n",
       "    </tr>\n",
       "    <tr>\n",
       "      <th>45289</th>\n",
       "      <td>FORD MOTOR CREDIT CO LLC</td>\n",
       "      <td>424B2</td>\n",
       "      <td>38009</td>\n",
       "      <td>2017-10-31</td>\n",
       "      <td>edgar/data/38009/0001047469-17-006676.txt</td>\n",
       "    </tr>\n",
       "    <tr>\n",
       "      <th>45290</th>\n",
       "      <td>FORD MOTOR CREDIT CO LLC</td>\n",
       "      <td>424B2</td>\n",
       "      <td>38009</td>\n",
       "      <td>2017-11-06</td>\n",
       "      <td>edgar/data/38009/0000038009-17-000171.txt</td>\n",
       "    </tr>\n",
       "    <tr>\n",
       "      <th>45291</th>\n",
       "      <td>FORD MOTOR CREDIT CO LLC</td>\n",
       "      <td>424B2</td>\n",
       "      <td>38009</td>\n",
       "      <td>2017-11-28</td>\n",
       "      <td>edgar/data/38009/0001104659-17-070639.txt</td>\n",
       "    </tr>\n",
       "    <tr>\n",
       "      <th>45292</th>\n",
       "      <td>FORD MOTOR CREDIT CO LLC</td>\n",
       "      <td>424B2</td>\n",
       "      <td>38009</td>\n",
       "      <td>2017-11-28</td>\n",
       "      <td>edgar/data/38009/0001104659-17-070640.txt</td>\n",
       "    </tr>\n",
       "    <tr>\n",
       "      <th>45293</th>\n",
       "      <td>FORD MOTOR CREDIT CO LLC</td>\n",
       "      <td>424B3</td>\n",
       "      <td>38009</td>\n",
       "      <td>2017-10-30</td>\n",
       "      <td>edgar/data/38009/0000038009-17-000165.txt</td>\n",
       "    </tr>\n",
       "    <tr>\n",
       "      <th>45294</th>\n",
       "      <td>FORD MOTOR CREDIT CO LLC</td>\n",
       "      <td>424B3</td>\n",
       "      <td>38009</td>\n",
       "      <td>2017-10-30</td>\n",
       "      <td>edgar/data/38009/0001047469-17-006635.txt</td>\n",
       "    </tr>\n",
       "    <tr>\n",
       "      <th>45295</th>\n",
       "      <td>FORD MOTOR CREDIT CO LLC</td>\n",
       "      <td>424B3</td>\n",
       "      <td>38009</td>\n",
       "      <td>2017-11-15</td>\n",
       "      <td>edgar/data/38009/0000038009-17-000177.txt</td>\n",
       "    </tr>\n",
       "    <tr>\n",
       "      <th>45296</th>\n",
       "      <td>FORD MOTOR CREDIT CO LLC</td>\n",
       "      <td>424B3</td>\n",
       "      <td>38009</td>\n",
       "      <td>2017-11-27</td>\n",
       "      <td>edgar/data/38009/0000038009-17-000179.txt</td>\n",
       "    </tr>\n",
       "    <tr>\n",
       "      <th>45297</th>\n",
       "      <td>FORD MOTOR CREDIT CO LLC</td>\n",
       "      <td>8-K</td>\n",
       "      <td>38009</td>\n",
       "      <td>2017-10-03</td>\n",
       "      <td>edgar/data/38009/0000038009-17-000158.txt</td>\n",
       "    </tr>\n",
       "    <tr>\n",
       "      <th>45298</th>\n",
       "      <td>FORD MOTOR CREDIT CO LLC</td>\n",
       "      <td>8-K</td>\n",
       "      <td>38009</td>\n",
       "      <td>2017-10-26</td>\n",
       "      <td>edgar/data/38009/0000038009-17-000161.txt</td>\n",
       "    </tr>\n",
       "    <tr>\n",
       "      <th>45299</th>\n",
       "      <td>FORD MOTOR CREDIT CO LLC</td>\n",
       "      <td>8-K</td>\n",
       "      <td>38009</td>\n",
       "      <td>2017-11-01</td>\n",
       "      <td>edgar/data/38009/0000038009-17-000167.txt</td>\n",
       "    </tr>\n",
       "    <tr>\n",
       "      <th>45300</th>\n",
       "      <td>FORD MOTOR CREDIT CO LLC</td>\n",
       "      <td>8-K</td>\n",
       "      <td>38009</td>\n",
       "      <td>2017-11-02</td>\n",
       "      <td>edgar/data/38009/0000038009-17-000169.txt</td>\n",
       "    </tr>\n",
       "    <tr>\n",
       "      <th>45301</th>\n",
       "      <td>FORD MOTOR CREDIT CO LLC</td>\n",
       "      <td>FWP</td>\n",
       "      <td>38009</td>\n",
       "      <td>2017-10-30</td>\n",
       "      <td>edgar/data/38009/0001104659-17-064687.txt</td>\n",
       "    </tr>\n",
       "    <tr>\n",
       "      <th>45302</th>\n",
       "      <td>FORD MOTOR CREDIT CO LLC</td>\n",
       "      <td>FWP</td>\n",
       "      <td>38009</td>\n",
       "      <td>2017-11-07</td>\n",
       "      <td>edgar/data/38009/0000038009-17-000175.txt</td>\n",
       "    </tr>\n",
       "  </tbody>\n",
       "</table>\n",
       "</div>"
      ],
      "text/plain": [
       "                   Company_Name Form_Type    CIK  Date_Filed  \\\n",
       "45276             FORD MOTOR CO      10-Q  37996  2017-10-26   \n",
       "45277             FORD MOTOR CO         3  37996  2017-11-08   \n",
       "45278             FORD MOTOR CO         4  37996  2017-10-05   \n",
       "45279             FORD MOTOR CO         4  37996  2017-10-05   \n",
       "45280             FORD MOTOR CO         4  37996  2017-10-05   \n",
       "45281             FORD MOTOR CO       8-K  37996  2017-10-02   \n",
       "45282             FORD MOTOR CO       8-K  37996  2017-10-03   \n",
       "45283             FORD MOTOR CO       8-K  37996  2017-10-03   \n",
       "45284             FORD MOTOR CO       8-K  37996  2017-10-18   \n",
       "45285             FORD MOTOR CO       8-K  37996  2017-10-26   \n",
       "45286             FORD MOTOR CO       8-K  37996  2017-11-01   \n",
       "45287             FORD MOTOR CO       8-K  37996  2017-11-16   \n",
       "45288  FORD MOTOR CREDIT CO LLC      10-Q  38009  2017-10-26   \n",
       "45289  FORD MOTOR CREDIT CO LLC     424B2  38009  2017-10-31   \n",
       "45290  FORD MOTOR CREDIT CO LLC     424B2  38009  2017-11-06   \n",
       "45291  FORD MOTOR CREDIT CO LLC     424B2  38009  2017-11-28   \n",
       "45292  FORD MOTOR CREDIT CO LLC     424B2  38009  2017-11-28   \n",
       "45293  FORD MOTOR CREDIT CO LLC     424B3  38009  2017-10-30   \n",
       "45294  FORD MOTOR CREDIT CO LLC     424B3  38009  2017-10-30   \n",
       "45295  FORD MOTOR CREDIT CO LLC     424B3  38009  2017-11-15   \n",
       "45296  FORD MOTOR CREDIT CO LLC     424B3  38009  2017-11-27   \n",
       "45297  FORD MOTOR CREDIT CO LLC       8-K  38009  2017-10-03   \n",
       "45298  FORD MOTOR CREDIT CO LLC       8-K  38009  2017-10-26   \n",
       "45299  FORD MOTOR CREDIT CO LLC       8-K  38009  2017-11-01   \n",
       "45300  FORD MOTOR CREDIT CO LLC       8-K  38009  2017-11-02   \n",
       "45301  FORD MOTOR CREDIT CO LLC       FWP  38009  2017-10-30   \n",
       "45302  FORD MOTOR CREDIT CO LLC       FWP  38009  2017-11-07   \n",
       "\n",
       "                                       File_Name  \n",
       "45276  edgar/data/37996/0000037996-17-000092.txt  \n",
       "45277  edgar/data/37996/0001209191-17-059706.txt  \n",
       "45278  edgar/data/37996/0001209191-17-056144.txt  \n",
       "45279  edgar/data/37996/0001209191-17-056147.txt  \n",
       "45280  edgar/data/37996/0001209191-17-056148.txt  \n",
       "45281  edgar/data/37996/0000037996-17-000080.txt  \n",
       "45282  edgar/data/37996/0000037996-17-000082.txt  \n",
       "45283  edgar/data/37996/0000037996-17-000084.txt  \n",
       "45284  edgar/data/37996/0000037996-17-000086.txt  \n",
       "45285  edgar/data/37996/0000037996-17-000090.txt  \n",
       "45286  edgar/data/37996/0000037996-17-000095.txt  \n",
       "45287  edgar/data/37996/0000037996-17-000099.txt  \n",
       "45288  edgar/data/38009/0000038009-17-000163.txt  \n",
       "45289  edgar/data/38009/0001047469-17-006676.txt  \n",
       "45290  edgar/data/38009/0000038009-17-000171.txt  \n",
       "45291  edgar/data/38009/0001104659-17-070639.txt  \n",
       "45292  edgar/data/38009/0001104659-17-070640.txt  \n",
       "45293  edgar/data/38009/0000038009-17-000165.txt  \n",
       "45294  edgar/data/38009/0001047469-17-006635.txt  \n",
       "45295  edgar/data/38009/0000038009-17-000177.txt  \n",
       "45296  edgar/data/38009/0000038009-17-000179.txt  \n",
       "45297  edgar/data/38009/0000038009-17-000158.txt  \n",
       "45298  edgar/data/38009/0000038009-17-000161.txt  \n",
       "45299  edgar/data/38009/0000038009-17-000167.txt  \n",
       "45300  edgar/data/38009/0000038009-17-000169.txt  \n",
       "45301  edgar/data/38009/0001104659-17-064687.txt  \n",
       "45302  edgar/data/38009/0000038009-17-000175.txt  "
      ]
     },
     "execution_count": 17,
     "metadata": {},
     "output_type": "execute_result"
    }
   ],
   "source": [
    "#now, with our sec_index dataframe\n",
    "#filter it where any item in the 'Company_Name' columns\n",
    "#contains the substring \"FORD MOTOR\"\n",
    "sec_index[sec_index['Company_Name'].str.contains('FORD MOTOR')]"
   ]
  },
  {
   "cell_type": "code",
   "execution_count": 18,
   "metadata": {
    "collapsed": true
   },
   "outputs": [],
   "source": [
    "#now, say you want to create a new column\n",
    "#with the full url for each filing\n",
    "#how would you attempt that?"
   ]
  }
 ],
 "metadata": {
  "kernelspec": {
   "display_name": "Python 2",
   "language": "python",
   "name": "python2"
  },
  "language_info": {
   "codemirror_mode": {
    "name": "ipython",
    "version": 2
   },
   "file_extension": ".py",
   "mimetype": "text/x-python",
   "name": "python",
   "nbconvert_exporter": "python",
   "pygments_lexer": "ipython2",
   "version": "2.7.10"
  }
 },
 "nbformat": 4,
 "nbformat_minor": 2
}
