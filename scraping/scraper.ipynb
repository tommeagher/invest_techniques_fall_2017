{
 "cells": [
  {
   "cell_type": "code",
   "execution_count": 1,
   "metadata": {
    "collapsed": false,
    "deletable": true,
    "editable": true
   },
   "outputs": [],
   "source": [
    "#Import the same libraries from our first script\n",
    "import requests\n",
    "from bs4 import BeautifulSoup\n",
    "import pandas as pd\n",
    "\n",
    "#only for Python2\n",
    "import unicodecsv\n",
    "\n",
    "#if you're using Python3 try this instead:\n",
    "#import csv"
   ]
  },
  {
   "cell_type": "code",
   "execution_count": 2,
   "metadata": {
    "collapsed": true,
    "deletable": true,
    "editable": true
   },
   "outputs": [],
   "source": [
    "#create a base_url that is just the domain and the directories that don't change\n",
    "base_url = 'https://s3.amazonaws.com/python-at-ire15/death_row/'"
   ]
  },
  {
   "cell_type": "code",
   "execution_count": 3,
   "metadata": {
    "collapsed": true,
    "deletable": true,
    "editable": true
   },
   "outputs": [],
   "source": [
    "#create a new_page variable with the html page name\n",
    "new_page = 'dr_offenders_on_dr.html'"
   ]
  },
  {
   "cell_type": "code",
   "execution_count": 4,
   "metadata": {
    "collapsed": false,
    "deletable": true,
    "editable": true
   },
   "outputs": [
    {
     "name": "stdout",
     "output_type": "stream",
     "text": [
      "https://s3.amazonaws.com/python-at-ire15/death_row/dr_offenders_on_dr.html\n"
     ]
    }
   ],
   "source": [
    "#concatenate the base_url and new_page into a url variable\n",
    "url = base_url + new_page\n",
    "print(url)"
   ]
  },
  {
   "cell_type": "code",
   "execution_count": 5,
   "metadata": {
    "collapsed": true,
    "deletable": true,
    "editable": true
   },
   "outputs": [],
   "source": [
    "#make a get request\n",
    "r = requests.get(url)"
   ]
  },
  {
   "cell_type": "code",
   "execution_count": 6,
   "metadata": {
    "collapsed": true,
    "deletable": true,
    "editable": true
   },
   "outputs": [],
   "source": [
    "#assign the r.content to html\n",
    "#use the inspector and Developer Tools to see the HTML you need\n",
    "html = r.content"
   ]
  },
  {
   "cell_type": "code",
   "execution_count": 7,
   "metadata": {
    "collapsed": false,
    "deletable": true,
    "editable": true
   },
   "outputs": [
    {
     "name": "stderr",
     "output_type": "stream",
     "text": [
      "/Users/tommeagher/.virtualenvs/pandas/lib/python2.7/site-packages/bs4/__init__.py:181: UserWarning: No parser was explicitly specified, so I'm using the best available HTML parser for this system (\"html5lib\"). This usually isn't a problem, but if you run this code on another system, or in a different virtual environment, it may use a different parser and behave differently.\n",
      "\n",
      "The code that caused this warning is on line 162 of the file /System/Library/Frameworks/Python.framework/Versions/2.7/lib/python2.7/runpy.py. To get rid of this warning, change code that looks like this:\n",
      "\n",
      " BeautifulSoup(YOUR_MARKUP})\n",
      "\n",
      "to this:\n",
      "\n",
      " BeautifulSoup(YOUR_MARKUP, \"html5lib\")\n",
      "\n",
      "  markup_type=markup_type))\n"
     ]
    }
   ],
   "source": [
    "#make a soup out of the html\n",
    "soup = BeautifulSoup(html)"
   ]
  },
  {
   "cell_type": "code",
   "execution_count": 8,
   "metadata": {
    "collapsed": true,
    "deletable": true,
    "editable": true
   },
   "outputs": [],
   "source": [
    "#grab the body text. This is all the same as before\n",
    "body_text = soup.find(\"div\", id='body')"
   ]
  },
  {
   "cell_type": "code",
   "execution_count": 9,
   "metadata": {
    "collapsed": true,
    "deletable": true,
    "editable": true
   },
   "outputs": [],
   "source": [
    "#pluck out the table from the body_text and assign it to \"our_table\"\n",
    "our_table = body_text.find('table')"
   ]
  },
  {
   "cell_type": "code",
   "execution_count": 10,
   "metadata": {
    "collapsed": true,
    "deletable": true,
    "editable": true
   },
   "outputs": [],
   "source": [
    "#find our first tr and assign it to headers\n",
    "headers = our_table.find('tr')"
   ]
  },
  {
   "cell_type": "code",
   "execution_count": 11,
   "metadata": {
    "collapsed": true,
    "deletable": true,
    "editable": true
   },
   "outputs": [],
   "source": [
    "#make an empty list that will hold our header names\n",
    "myheaders = []"
   ]
  },
  {
   "cell_type": "code",
   "execution_count": 12,
   "metadata": {
    "collapsed": true,
    "deletable": true,
    "editable": true
   },
   "outputs": [],
   "source": [
    "#make a for loop and append all the text of all the 'th' tags to the myheaders list\n",
    "for th in headers.find_all('th'):\n",
    "    myheaders.append(th.text)"
   ]
  },
  {
   "cell_type": "code",
   "execution_count": 13,
   "metadata": {
    "collapsed": false,
    "deletable": true,
    "editable": true
   },
   "outputs": [
    {
     "name": "stdout",
     "output_type": "stream",
     "text": [
      "[u'TDCJ Number', u'Link', u'Last Name', u'First Name', u'Date of Birth', u'Gender', u'Race', u'Date Received', u'County', u'Date of Offense']\n"
     ]
    }
   ],
   "source": [
    "#print myheaders out, so you can see how they differ\n",
    "print(myheaders)"
   ]
  },
  {
   "cell_type": "code",
   "execution_count": 14,
   "metadata": {
    "collapsed": true,
    "deletable": true,
    "editable": true
   },
   "outputs": [],
   "source": [
    "#create an output file name\n",
    "output_file = 'deathrow.csv'"
   ]
  },
  {
   "cell_type": "code",
   "execution_count": 15,
   "metadata": {
    "collapsed": false,
    "deletable": true,
    "editable": true
   },
   "outputs": [],
   "source": [
    "#open the f file object\n",
    "with open(output_file,'wb') as f:\n",
    "#for Python3, try this\n",
    "#with open(output_file,'w', encoding='utf-8') as f:\n",
    "\n",
    "    #create a w writer object\n",
    "    w = unicodecsv.writer(f, encoding='utf-8')\n",
    "\n",
    "    #for Python3, try this\n",
    "    #w = csv.writer(f)\n",
    "\n",
    "    #write our header rows to the csv using w\n",
    "    w.writerow(myheaders)\n",
    "\n",
    "    #grab all the trs after the first in our_table and loop through them\n",
    "    #rename the variables in the right order and add new ones for offensedate, for instance\n",
    "    for tr in our_table.find_all('tr')[1:]:\n",
    "        tds = tr.find_all('td')\n",
    "        number = tds[0].text\n",
    "        link = tds[1].find('a').get('href')\n",
    "        #have the class do the rest of these on their own\n",
    "        last = tds[2].text\n",
    "        first = tds[3].text\n",
    "        dob = tds[4].text\n",
    "        gender = tds[5].text\n",
    "        race = tds[6].text\n",
    "        indate = tds[7].text\n",
    "        county = tds[8].text\n",
    "        offensedate = tds[9].text\n",
    "        #gather all the variables into a list\n",
    "        rowitems = [number, link, last, first, dob, gender, race, indate, county, offensedate]\n",
    "        #write the list to the csv with w\n",
    "        w.writerow(rowitems)\n",
    "#at the end of the loop, it automatically closes the f file"
   ]
  },
  {
   "cell_type": "code",
   "execution_count": 16,
   "metadata": {
    "collapsed": true,
    "deletable": true,
    "editable": true
   },
   "outputs": [],
   "source": [
    "#read your local csv back into a pandas dataframe\n",
    "deathrow = pd.read_csv('deathrow.csv')"
   ]
  },
  {
   "cell_type": "code",
   "execution_count": 17,
   "metadata": {
    "collapsed": false
   },
   "outputs": [
    {
     "data": {
      "text/html": [
       "<div>\n",
       "<style scoped>\n",
       "    .dataframe tbody tr th:only-of-type {\n",
       "        vertical-align: middle;\n",
       "    }\n",
       "\n",
       "    .dataframe tbody tr th {\n",
       "        vertical-align: top;\n",
       "    }\n",
       "\n",
       "    .dataframe thead th {\n",
       "        text-align: right;\n",
       "    }\n",
       "</style>\n",
       "<table border=\"1\" class=\"dataframe\">\n",
       "  <thead>\n",
       "    <tr style=\"text-align: right;\">\n",
       "      <th></th>\n",
       "      <th>TDCJ Number</th>\n",
       "      <th>Link</th>\n",
       "      <th>Last Name</th>\n",
       "      <th>First Name</th>\n",
       "      <th>Date of Birth</th>\n",
       "      <th>Gender</th>\n",
       "      <th>Race</th>\n",
       "      <th>Date Received</th>\n",
       "      <th>County</th>\n",
       "      <th>Date of Offense</th>\n",
       "    </tr>\n",
       "  </thead>\n",
       "  <tbody>\n",
       "    <tr>\n",
       "      <th>0</th>\n",
       "      <td>999598</td>\n",
       "      <td>dr_info/williamseric.html</td>\n",
       "      <td>Williams</td>\n",
       "      <td>Eric</td>\n",
       "      <td>04/07/1967</td>\n",
       "      <td>M</td>\n",
       "      <td>White</td>\n",
       "      <td>12/18/2014</td>\n",
       "      <td>Kaufman</td>\n",
       "      <td>03/30/2013</td>\n",
       "    </tr>\n",
       "    <tr>\n",
       "      <th>1</th>\n",
       "      <td>999597</td>\n",
       "      <td>dr_info/thomassteven.html</td>\n",
       "      <td>Thomas</td>\n",
       "      <td>Steven</td>\n",
       "      <td>09/21/1958</td>\n",
       "      <td>M</td>\n",
       "      <td>White</td>\n",
       "      <td>12/05/2014</td>\n",
       "      <td>Williamson</td>\n",
       "      <td>11/04/1980</td>\n",
       "    </tr>\n",
       "    <tr>\n",
       "      <th>2</th>\n",
       "      <td>999596</td>\n",
       "      <td>dr_info/sunigabrian.html</td>\n",
       "      <td>Suniga</td>\n",
       "      <td>Brian</td>\n",
       "      <td>12/27/1979</td>\n",
       "      <td>M</td>\n",
       "      <td>White</td>\n",
       "      <td>10/30/2014</td>\n",
       "      <td>Lubbock</td>\n",
       "      <td>12/26/2011</td>\n",
       "    </tr>\n",
       "    <tr>\n",
       "      <th>3</th>\n",
       "      <td>999595</td>\n",
       "      <td>dr_info/lewisharlem.html</td>\n",
       "      <td>Lewis, III</td>\n",
       "      <td>Harlem</td>\n",
       "      <td>07/05/1991</td>\n",
       "      <td>M</td>\n",
       "      <td>Black</td>\n",
       "      <td>08/01/2014</td>\n",
       "      <td>Harris</td>\n",
       "      <td>12/24/2012</td>\n",
       "    </tr>\n",
       "    <tr>\n",
       "      <th>4</th>\n",
       "      <td>999594</td>\n",
       "      <td>dr_info/valdezfidencio.html</td>\n",
       "      <td>Valdez</td>\n",
       "      <td>Fidencio</td>\n",
       "      <td>05/30/1979</td>\n",
       "      <td>M</td>\n",
       "      <td>Hispanic</td>\n",
       "      <td>07/24/2014</td>\n",
       "      <td>El Paso</td>\n",
       "      <td>12/10/2010</td>\n",
       "    </tr>\n",
       "  </tbody>\n",
       "</table>\n",
       "</div>"
      ],
      "text/plain": [
       "   TDCJ Number                         Link    Last Name First Name  \\\n",
       "0       999598    dr_info/williamseric.html     Williams       Eric   \n",
       "1       999597    dr_info/thomassteven.html       Thomas     Steven   \n",
       "2       999596     dr_info/sunigabrian.html       Suniga      Brian   \n",
       "3       999595     dr_info/lewisharlem.html  Lewis, III      Harlem   \n",
       "4       999594  dr_info/valdezfidencio.html       Valdez   Fidencio   \n",
       "\n",
       "  Date of Birth Gender      Race Date Received      County Date of Offense  \n",
       "0    04/07/1967      M     White    12/18/2014     Kaufman      03/30/2013  \n",
       "1    09/21/1958      M     White    12/05/2014  Williamson      11/04/1980  \n",
       "2    12/27/1979      M     White    10/30/2014     Lubbock      12/26/2011  \n",
       "3    07/05/1991      M     Black    08/01/2014      Harris      12/24/2012  \n",
       "4    05/30/1979      M  Hispanic    07/24/2014    El Paso       12/10/2010  "
      ]
     },
     "execution_count": 17,
     "metadata": {},
     "output_type": "execute_result"
    }
   ],
   "source": [
    "#look at the top of your dataframe. Now you're ready for analysis\n",
    "deathrow.head()"
   ]
  },
  {
   "cell_type": "code",
   "execution_count": null,
   "metadata": {
    "collapsed": true
   },
   "outputs": [],
   "source": []
  }
 ],
 "metadata": {
  "kernelspec": {
   "display_name": "Python 2",
   "language": "python",
   "name": "python2"
  },
  "language_info": {
   "codemirror_mode": {
    "name": "ipython",
    "version": 2
   },
   "file_extension": ".py",
   "mimetype": "text/x-python",
   "name": "python",
   "nbconvert_exporter": "python",
   "pygments_lexer": "ipython2",
   "version": "2.7.10"
  }
 },
 "nbformat": 4,
 "nbformat_minor": 2
}
