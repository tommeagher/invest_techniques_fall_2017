{
 "cells": [
  {
   "cell_type": "code",
   "execution_count": 1,
   "metadata": {
    "collapsed": true,
    "deletable": true,
    "editable": true
   },
   "outputs": [],
   "source": [
    "#read in our libraries\n",
    "import requests\n",
    "\n",
    "import pandas as pd\n",
    "import json"
   ]
  },
  {
   "cell_type": "code",
   "execution_count": 2,
   "metadata": {
    "collapsed": true,
    "deletable": true,
    "editable": true
   },
   "outputs": [],
   "source": [
    "my_url = \"https://www.nycgovparks.org/tree-map-feeds/eco-benefits.json\""
   ]
  },
  {
   "cell_type": "code",
   "execution_count": 3,
   "metadata": {
    "collapsed": false,
    "deletable": true,
    "editable": true
   },
   "outputs": [],
   "source": [
    "#make our get request to our url\n",
    "#this is a big file and may take a while \n",
    "r = requests.get(my_url)"
   ]
  },
  {
   "cell_type": "code",
   "execution_count": 4,
   "metadata": {
    "collapsed": true,
    "deletable": true,
    "editable": true
   },
   "outputs": [],
   "source": [
    "#take the content of the response we got to our request\n",
    "#in this case, it's a text file in the json format\n",
    "response = r.content"
   ]
  },
  {
   "cell_type": "code",
   "execution_count": 5,
   "metadata": {
    "collapsed": false,
    "deletable": true,
    "editable": true
   },
   "outputs": [],
   "source": [
    "#use Python's built-in json library\n",
    "#and read the response content into a Python dictionary\n",
    "my_dict = json.loads(response)"
   ]
  },
  {
   "cell_type": "code",
   "execution_count": 6,
   "metadata": {
    "collapsed": false,
    "deletable": true,
    "editable": true
   },
   "outputs": [
    {
     "data": {
      "text/plain": [
       "[u'meta', u'data']"
      ]
     },
     "execution_count": 6,
     "metadata": {},
     "output_type": "execute_result"
    }
   ],
   "source": [
    "#just look at the keys of the dict (think of them as column headings)\n",
    "my_dict.keys()"
   ]
  },
  {
   "cell_type": "code",
   "execution_count": 7,
   "metadata": {
    "collapsed": false,
    "deletable": true,
    "editable": true
   },
   "outputs": [
    {
     "data": {
      "text/plain": [
       "{u'copyright': u'Copyright - NYC Parks',\n",
       " u'lastBuildDate': u'2017-12-13 05:12:01'}"
      ]
     },
     "execution_count": 7,
     "metadata": {},
     "output_type": "execute_result"
    }
   ],
   "source": [
    "#The \"meta\" key doesn't contain much\n",
    "my_dict['meta']"
   ]
  },
  {
   "cell_type": "code",
   "execution_count": 8,
   "metadata": {
    "collapsed": false,
    "deletable": true,
    "editable": true
   },
   "outputs": [],
   "source": [
    "#the bulk of our data is in the 'data' key of the dictionary\n",
    "my_trees = my_dict['data']"
   ]
  },
  {
   "cell_type": "code",
   "execution_count": 9,
   "metadata": {
    "collapsed": false,
    "deletable": true,
    "editable": true
   },
   "outputs": [],
   "source": [
    "#we can create a dataframe from a dict, too!\n",
    "#it uses the keys as column headings\n",
    "#and the values as the data in each row\n",
    "cleanup = pd.DataFrame.from_dict(my_trees)"
   ]
  },
  {
   "cell_type": "code",
   "execution_count": 10,
   "metadata": {
    "collapsed": false,
    "deletable": true,
    "editable": true
   },
   "outputs": [
    {
     "data": {
      "text/plain": [
       "Index([u'airPollutantsRemovedInPounds', u'airPollutantsRemovedValueInDollars',\n",
       "       u'co2ReducedInPounds', u'co2ReducedValueInDollars',\n",
       "       u'energyConservedInKwH', u'energyConservedValueInDollars',\n",
       "       u'stormwaterInterceptedInGallons',\n",
       "       u'stormwaterInterceptedValueInDollars', u'treeId'],\n",
       "      dtype='object')"
      ]
     },
     "execution_count": 10,
     "metadata": {},
     "output_type": "execute_result"
    }
   ],
   "source": [
    "#let's just see the columns in our dataframe\n",
    "cleanup.columns"
   ]
  },
  {
   "cell_type": "code",
   "execution_count": 11,
   "metadata": {
    "collapsed": false,
    "deletable": true,
    "editable": true
   },
   "outputs": [
    {
     "name": "stdout",
     "output_type": "stream",
     "text": [
      "<class 'pandas.core.frame.DataFrame'>\n",
      "RangeIndex: 713101 entries, 0 to 713100\n",
      "Data columns (total 9 columns):\n",
      "airPollutantsRemovedInPounds           694743 non-null object\n",
      "airPollutantsRemovedValueInDollars     713101 non-null object\n",
      "co2ReducedInPounds                     694743 non-null object\n",
      "co2ReducedValueInDollars               713101 non-null object\n",
      "energyConservedInKwH                   694743 non-null object\n",
      "energyConservedValueInDollars          713101 non-null object\n",
      "stormwaterInterceptedInGallons         694743 non-null object\n",
      "stormwaterInterceptedValueInDollars    713101 non-null object\n",
      "treeId                                 713101 non-null int64\n",
      "dtypes: int64(1), object(8)\n",
      "memory usage: 49.0+ MB\n"
     ]
    }
   ],
   "source": [
    "#this tells us more about how many values are missing in each column\n",
    "cleanup.info()"
   ]
  },
  {
   "cell_type": "code",
   "execution_count": 12,
   "metadata": {
    "collapsed": true,
    "deletable": true,
    "editable": true
   },
   "outputs": [],
   "source": [
    "#take 2 mins each\n",
    "#what's the total dollar value of the CO2 reduced by these trees?\n",
    "#how many gallons of stormwater were intercepted?\n",
    "#what's the average air pollutants removed in pounds?"
   ]
  },
  {
   "cell_type": "code",
   "execution_count": 13,
   "metadata": {
    "collapsed": false,
    "deletable": true,
    "editable": true
   },
   "outputs": [
    {
     "data": {
      "text/plain": [
       "1138310796.8256257"
      ]
     },
     "execution_count": 13,
     "metadata": {},
     "output_type": "execute_result"
    }
   ],
   "source": [
    "#we have to convert our string to a number before we can sum the column\n",
    "cleanup['stormwaterInterceptedInGallons'] = pd.to_numeric(cleanup.stormwaterInterceptedInGallons)\n",
    "cleanup.stormwaterInterceptedInGallons.sum()"
   ]
  },
  {
   "cell_type": "code",
   "execution_count": 14,
   "metadata": {
    "collapsed": true,
    "deletable": true,
    "editable": true
   },
   "outputs": [],
   "source": [
    "#now you try the other two"
   ]
  },
  {
   "cell_type": "code",
   "execution_count": 15,
   "metadata": {
    "collapsed": false,
    "deletable": true,
    "editable": true
   },
   "outputs": [
    {
     "data": {
      "text/plain": [
       "4363826.5399999991"
      ]
     },
     "execution_count": 15,
     "metadata": {},
     "output_type": "execute_result"
    }
   ],
   "source": [
    "cleanup['co2ReducedValueInDollars'] = pd.to_numeric(cleanup.co2ReducedValueInDollars)\n",
    "cleanup.co2ReducedValueInDollars.sum()"
   ]
  },
  {
   "cell_type": "code",
   "execution_count": 16,
   "metadata": {
    "collapsed": false,
    "deletable": true,
    "editable": true
   },
   "outputs": [
    {
     "data": {
      "text/plain": [
       "1.9167700853437903"
      ]
     },
     "execution_count": 16,
     "metadata": {},
     "output_type": "execute_result"
    }
   ],
   "source": [
    "#we can also use the mean (aka average) function\n",
    "cleanup['airPollutantsRemovedInPounds'] = pd.to_numeric(cleanup.airPollutantsRemovedInPounds)\n",
    "cleanup.airPollutantsRemovedInPounds.mean()"
   ]
  },
  {
   "cell_type": "code",
   "execution_count": 17,
   "metadata": {
    "collapsed": false,
    "deletable": true,
    "editable": true
   },
   "outputs": [
    {
     "data": {
      "text/html": [
       "<div>\n",
       "<style scoped>\n",
       "    .dataframe tbody tr th:only-of-type {\n",
       "        vertical-align: middle;\n",
       "    }\n",
       "\n",
       "    .dataframe tbody tr th {\n",
       "        vertical-align: top;\n",
       "    }\n",
       "\n",
       "    .dataframe thead th {\n",
       "        text-align: right;\n",
       "    }\n",
       "</style>\n",
       "<table border=\"1\" class=\"dataframe\">\n",
       "  <thead>\n",
       "    <tr style=\"text-align: right;\">\n",
       "      <th></th>\n",
       "      <th>airPollutantsRemovedInPounds</th>\n",
       "      <th>airPollutantsRemovedValueInDollars</th>\n",
       "      <th>co2ReducedInPounds</th>\n",
       "      <th>co2ReducedValueInDollars</th>\n",
       "      <th>energyConservedInKwH</th>\n",
       "      <th>energyConservedValueInDollars</th>\n",
       "      <th>stormwaterInterceptedInGallons</th>\n",
       "      <th>stormwaterInterceptedValueInDollars</th>\n",
       "      <th>treeId</th>\n",
       "    </tr>\n",
       "  </thead>\n",
       "  <tbody>\n",
       "    <tr>\n",
       "      <th>0</th>\n",
       "      <td>0.766546</td>\n",
       "      <td>4.01</td>\n",
       "      <td>321.50000000</td>\n",
       "      <td>1.07</td>\n",
       "      <td>484.73993509</td>\n",
       "      <td>61.20</td>\n",
       "      <td>615.520881</td>\n",
       "      <td>6.09</td>\n",
       "      <td>2134468</td>\n",
       "    </tr>\n",
       "    <tr>\n",
       "      <th>1</th>\n",
       "      <td>3.943624</td>\n",
       "      <td>20.62</td>\n",
       "      <td>6841.30000000</td>\n",
       "      <td>22.85</td>\n",
       "      <td>2244.94094152</td>\n",
       "      <td>283.41</td>\n",
       "      <td>4924.167049</td>\n",
       "      <td>48.75</td>\n",
       "      <td>2405572</td>\n",
       "    </tr>\n",
       "    <tr>\n",
       "      <th>2</th>\n",
       "      <td>1.049399</td>\n",
       "      <td>5.49</td>\n",
       "      <td>354.80000000</td>\n",
       "      <td>1.19</td>\n",
       "      <td>623.13596225</td>\n",
       "      <td>78.67</td>\n",
       "      <td>948.377667</td>\n",
       "      <td>9.39</td>\n",
       "      <td>3366678</td>\n",
       "    </tr>\n",
       "    <tr>\n",
       "      <th>3</th>\n",
       "      <td>1.133836</td>\n",
       "      <td>5.93</td>\n",
       "      <td>411.80000000</td>\n",
       "      <td>1.38</td>\n",
       "      <td>533.84216917</td>\n",
       "      <td>67.39</td>\n",
       "      <td>808.366479</td>\n",
       "      <td>8.00</td>\n",
       "      <td>3727278</td>\n",
       "    </tr>\n",
       "    <tr>\n",
       "      <th>4</th>\n",
       "      <td>4.949813</td>\n",
       "      <td>25.88</td>\n",
       "      <td>5554.20000000</td>\n",
       "      <td>18.55</td>\n",
       "      <td>2279.52229978</td>\n",
       "      <td>287.78</td>\n",
       "      <td>4593.951984</td>\n",
       "      <td>45.48</td>\n",
       "      <td>228115</td>\n",
       "    </tr>\n",
       "  </tbody>\n",
       "</table>\n",
       "</div>"
      ],
      "text/plain": [
       "   airPollutantsRemovedInPounds airPollutantsRemovedValueInDollars  \\\n",
       "0                      0.766546                               4.01   \n",
       "1                      3.943624                              20.62   \n",
       "2                      1.049399                               5.49   \n",
       "3                      1.133836                               5.93   \n",
       "4                      4.949813                              25.88   \n",
       "\n",
       "  co2ReducedInPounds  co2ReducedValueInDollars energyConservedInKwH  \\\n",
       "0       321.50000000                      1.07         484.73993509   \n",
       "1      6841.30000000                     22.85        2244.94094152   \n",
       "2       354.80000000                      1.19         623.13596225   \n",
       "3       411.80000000                      1.38         533.84216917   \n",
       "4      5554.20000000                     18.55        2279.52229978   \n",
       "\n",
       "  energyConservedValueInDollars  stormwaterInterceptedInGallons  \\\n",
       "0                         61.20                      615.520881   \n",
       "1                        283.41                     4924.167049   \n",
       "2                         78.67                      948.377667   \n",
       "3                         67.39                      808.366479   \n",
       "4                        287.78                     4593.951984   \n",
       "\n",
       "  stormwaterInterceptedValueInDollars   treeId  \n",
       "0                                6.09  2134468  \n",
       "1                               48.75  2405572  \n",
       "2                                9.39  3366678  \n",
       "3                                8.00  3727278  \n",
       "4                               45.48   228115  "
      ]
     },
     "execution_count": 17,
     "metadata": {},
     "output_type": "execute_result"
    }
   ],
   "source": [
    "cleanup.head()"
   ]
  },
  {
   "cell_type": "code",
   "execution_count": 18,
   "metadata": {
    "collapsed": true,
    "deletable": true,
    "editable": true
   },
   "outputs": [],
   "source": [
    "#now that we've converted our json to an easier format to analyze\n",
    "#we can dump our dataframe to a csv with pandas and save it for later\n",
    "cleanup.to_csv('trees.csv')"
   ]
  },
  {
   "cell_type": "code",
   "execution_count": null,
   "metadata": {
    "collapsed": true
   },
   "outputs": [],
   "source": []
  }
 ],
 "metadata": {
  "kernelspec": {
   "display_name": "Python 2",
   "language": "python",
   "name": "python2"
  },
  "language_info": {
   "codemirror_mode": {
    "name": "ipython",
    "version": 2
   },
   "file_extension": ".py",
   "mimetype": "text/x-python",
   "name": "python",
   "nbconvert_exporter": "python",
   "pygments_lexer": "ipython2",
   "version": "2.7.10"
  }
 },
 "nbformat": 4,
 "nbformat_minor": 2
}
